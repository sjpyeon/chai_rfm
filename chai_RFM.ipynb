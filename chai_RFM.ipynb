{
 "cells": [
  {
   "cell_type": "code",
   "execution_count": 1,
   "id": "87ab4fe4",
   "metadata": {
    "ExecuteTime": {
     "end_time": "2022-09-30T00:59:03.553702Z",
     "start_time": "2022-09-30T00:58:58.918091Z"
    }
   },
   "outputs": [],
   "source": [
    "import pandas as pd\n",
    "import numpy as np\n",
    "import seaborn as sns\n",
    "import matplotlib.pyplot as plt\n",
    "import datetime as dt\n",
    "from datetime import date\n",
    "import warnings\n",
    "warnings.simplefilter(action='ignore', category=FutureWarning) # FutureWarning 제거\n",
    "pd.options.display.float_format = '{:.5f}'.format # 숫자형 데이터 지수표현법에서 float로 변경"
   ]
  },
  {
   "cell_type": "code",
   "execution_count": 2,
   "id": "ffb1c1eb",
   "metadata": {
    "ExecuteTime": {
     "end_time": "2022-09-30T00:59:03.854875Z",
     "start_time": "2022-09-30T00:59:03.572660Z"
    }
   },
   "outputs": [],
   "source": [
    "users = pd.read_csv('users_RFM.csv', encoding = 'utf-8')"
   ]
  },
  {
   "cell_type": "code",
   "execution_count": 3,
   "id": "854afab2",
   "metadata": {
    "ExecuteTime": {
     "end_time": "2022-09-21T01:52:26.313412Z",
     "start_time": "2022-09-21T01:52:26.257215Z"
    }
   },
   "outputs": [
    {
     "name": "stdout",
     "output_type": "stream",
     "text": [
      "<class 'pandas.core.frame.DataFrame'>\n",
      "RangeIndex: 544921 entries, 0 to 544920\n",
      "Data columns (total 7 columns):\n",
      " #   Column       Non-Null Count   Dtype\n",
      "---  ------       --------------   -----\n",
      " 0   customer_id  544921 non-null  int64\n",
      " 1   recency      544921 non-null  int64\n",
      " 2   frequency    544921 non-null  int64\n",
      " 3   monetary     544921 non-null  int64\n",
      " 4   R            544921 non-null  int64\n",
      " 5   F            544921 non-null  int64\n",
      " 6   M            544921 non-null  int64\n",
      "dtypes: int64(7)\n",
      "memory usage: 29.1 MB\n"
     ]
    }
   ],
   "source": [
    "users.info()"
   ]
  },
  {
   "cell_type": "markdown",
   "id": "b527b8ed",
   "metadata": {},
   "source": [
    "### RFM 분석"
   ]
  },
  {
   "cell_type": "markdown",
   "id": "081c994a",
   "metadata": {},
   "source": [
    "#### R-F 시각화 및 분석"
   ]
  },
  {
   "cell_type": "code",
   "execution_count": 81,
   "id": "48ca2b25",
   "metadata": {
    "ExecuteTime": {
     "end_time": "2022-09-20T05:22:02.541510Z",
     "start_time": "2022-09-20T05:22:02.462686Z"
    }
   },
   "outputs": [],
   "source": [
    "rf_matrix = users.groupby(['R','F']).agg({'customer_id' : 'count', 'monetary' : 'sum'}).reset_index()\n",
    "rf_matrix['avg_sales'] = rf_matrix['monetary'] / rf_matrix['customer_id']"
   ]
  },
  {
   "cell_type": "code",
   "execution_count": 82,
   "id": "412eacf4",
   "metadata": {
    "ExecuteTime": {
     "end_time": "2022-09-20T05:22:02.917471Z",
     "start_time": "2022-09-20T05:22:02.754940Z"
    },
    "scrolled": false
   },
   "outputs": [
    {
     "data": {
      "text/html": [
       "<style type=\"text/css\">\n",
       "#T_7149c_row0_col0 {\n",
       "  background-color: #d6e6f4;\n",
       "  color: #000000;\n",
       "}\n",
       "#T_7149c_row0_col1 {\n",
       "  background-color: #d4e4f4;\n",
       "  color: #000000;\n",
       "}\n",
       "#T_7149c_row0_col2, #T_7149c_row1_col1 {\n",
       "  background-color: #cee0f2;\n",
       "  color: #000000;\n",
       "}\n",
       "#T_7149c_row0_col3 {\n",
       "  background-color: #b8d5ea;\n",
       "  color: #000000;\n",
       "}\n",
       "#T_7149c_row0_col4 {\n",
       "  background-color: #61a7d2;\n",
       "  color: #f1f1f1;\n",
       "}\n",
       "#T_7149c_row1_col0 {\n",
       "  background-color: #d6e5f4;\n",
       "  color: #000000;\n",
       "}\n",
       "#T_7149c_row1_col2 {\n",
       "  background-color: #bed8ec;\n",
       "  color: #000000;\n",
       "}\n",
       "#T_7149c_row1_col3, #T_7149c_row4_col3 {\n",
       "  background-color: #a3cce3;\n",
       "  color: #000000;\n",
       "}\n",
       "#T_7149c_row1_col4 {\n",
       "  background-color: #8cc0dd;\n",
       "  color: #000000;\n",
       "}\n",
       "#T_7149c_row2_col0 {\n",
       "  background-color: #cadef0;\n",
       "  color: #000000;\n",
       "}\n",
       "#T_7149c_row2_col1 {\n",
       "  background-color: #9dcae1;\n",
       "  color: #000000;\n",
       "}\n",
       "#T_7149c_row2_col2 {\n",
       "  background-color: #69add5;\n",
       "  color: #f1f1f1;\n",
       "}\n",
       "#T_7149c_row2_col3 {\n",
       "  background-color: #56a0ce;\n",
       "  color: #f1f1f1;\n",
       "}\n",
       "#T_7149c_row2_col4 {\n",
       "  background-color: #6caed6;\n",
       "  color: #f1f1f1;\n",
       "}\n",
       "#T_7149c_row3_col0 {\n",
       "  background-color: #4a98c9;\n",
       "  color: #f1f1f1;\n",
       "}\n",
       "#T_7149c_row3_col1, #T_7149c_row3_col2 {\n",
       "  background-color: #2d7dbb;\n",
       "  color: #f1f1f1;\n",
       "}\n",
       "#T_7149c_row3_col3 {\n",
       "  background-color: #519ccc;\n",
       "  color: #f1f1f1;\n",
       "}\n",
       "#T_7149c_row3_col4 {\n",
       "  background-color: #91c3de;\n",
       "  color: #000000;\n",
       "}\n",
       "#T_7149c_row4_col0 {\n",
       "  background-color: #08306b;\n",
       "  color: #f1f1f1;\n",
       "}\n",
       "#T_7149c_row4_col1 {\n",
       "  background-color: #2f7fbc;\n",
       "  color: #f1f1f1;\n",
       "}\n",
       "#T_7149c_row4_col2 {\n",
       "  background-color: #66abd4;\n",
       "  color: #f1f1f1;\n",
       "}\n",
       "#T_7149c_row4_col4 {\n",
       "  background-color: #c1d9ed;\n",
       "  color: #000000;\n",
       "}\n",
       "</style>\n",
       "<table id=\"T_7149c\">\n",
       "  <thead>\n",
       "    <tr>\n",
       "      <th class=\"index_name level0\" >R</th>\n",
       "      <th id=\"T_7149c_level0_col0\" class=\"col_heading level0 col0\" >1</th>\n",
       "      <th id=\"T_7149c_level0_col1\" class=\"col_heading level0 col1\" >2</th>\n",
       "      <th id=\"T_7149c_level0_col2\" class=\"col_heading level0 col2\" >3</th>\n",
       "      <th id=\"T_7149c_level0_col3\" class=\"col_heading level0 col3\" >4</th>\n",
       "      <th id=\"T_7149c_level0_col4\" class=\"col_heading level0 col4\" >5</th>\n",
       "    </tr>\n",
       "    <tr>\n",
       "      <th class=\"index_name level0\" >F</th>\n",
       "      <th class=\"blank col0\" >&nbsp;</th>\n",
       "      <th class=\"blank col1\" >&nbsp;</th>\n",
       "      <th class=\"blank col2\" >&nbsp;</th>\n",
       "      <th class=\"blank col3\" >&nbsp;</th>\n",
       "      <th class=\"blank col4\" >&nbsp;</th>\n",
       "    </tr>\n",
       "  </thead>\n",
       "  <tbody>\n",
       "    <tr>\n",
       "      <th id=\"T_7149c_level0_row0\" class=\"row_heading level0 row0\" >5</th>\n",
       "      <td id=\"T_7149c_row0_col0\" class=\"data row0 col0\" >70</td>\n",
       "      <td id=\"T_7149c_row0_col1\" class=\"data row0 col1\" >972</td>\n",
       "      <td id=\"T_7149c_row0_col2\" class=\"data row0 col2\" >3637</td>\n",
       "      <td id=\"T_7149c_row0_col3\" class=\"data row0 col3\" >10669</td>\n",
       "      <td id=\"T_7149c_row0_col4\" class=\"data row0 col4\" >29514</td>\n",
       "    </tr>\n",
       "    <tr>\n",
       "      <th id=\"T_7149c_level0_row1\" class=\"row_heading level0 row1\" >4</th>\n",
       "      <td id=\"T_7149c_row1_col0\" class=\"data row1 col0\" >460</td>\n",
       "      <td id=\"T_7149c_row1_col1\" class=\"data row1 col1\" >3404</td>\n",
       "      <td id=\"T_7149c_row1_col2\" class=\"data row1 col2\" >8888</td>\n",
       "      <td id=\"T_7149c_row1_col3\" class=\"data row1 col3\" >15958</td>\n",
       "      <td id=\"T_7149c_row1_col4\" class=\"data row1 col4\" >20873</td>\n",
       "    </tr>\n",
       "    <tr>\n",
       "      <th id=\"T_7149c_level0_row2\" class=\"row_heading level0 row2\" >3</th>\n",
       "      <td id=\"T_7149c_row2_col0\" class=\"data row2 col0\" >5228</td>\n",
       "      <td id=\"T_7149c_row2_col1\" class=\"data row2 col1\" >17140</td>\n",
       "      <td id=\"T_7149c_row2_col2\" class=\"data row2 col2\" >27598</td>\n",
       "      <td id=\"T_7149c_row2_col3\" class=\"data row2 col3\" >32410</td>\n",
       "      <td id=\"T_7149c_row2_col4\" class=\"data row2 col4\" >27192</td>\n",
       "    </tr>\n",
       "    <tr>\n",
       "      <th id=\"T_7149c_level0_row3\" class=\"row_heading level0 row3\" >2</th>\n",
       "      <td id=\"T_7149c_row3_col0\" class=\"data row3 col0\" >35297</td>\n",
       "      <td id=\"T_7149c_row3_col1\" class=\"data row3 col1\" >44054</td>\n",
       "      <td id=\"T_7149c_row3_col2\" class=\"data row3 col2\" >43932</td>\n",
       "      <td id=\"T_7149c_row3_col3\" class=\"data row3 col3\" >33718</td>\n",
       "      <td id=\"T_7149c_row3_col4\" class=\"data row3 col4\" >19760</td>\n",
       "    </tr>\n",
       "    <tr>\n",
       "      <th id=\"T_7149c_level0_row4\" class=\"row_heading level0 row4\" >1</th>\n",
       "      <td id=\"T_7149c_row4_col0\" class=\"data row4 col0\" >68010</td>\n",
       "      <td id=\"T_7149c_row4_col1\" class=\"data row4 col1\" >43352</td>\n",
       "      <td id=\"T_7149c_row4_col2\" class=\"data row4 col2\" >28335</td>\n",
       "      <td id=\"T_7149c_row4_col3\" class=\"data row4 col3\" >16060</td>\n",
       "      <td id=\"T_7149c_row4_col4\" class=\"data row4 col4\" >8390</td>\n",
       "    </tr>\n",
       "  </tbody>\n",
       "</table>\n"
      ],
      "text/plain": [
       "<pandas.io.formats.style.Styler at 0x22a88952b50>"
      ]
     },
     "execution_count": 82,
     "metadata": {},
     "output_type": "execute_result"
    }
   ],
   "source": [
    "rf_pivot = rf_matrix.pivot(index='F', columns='R', values='customer_id').fillna(0).sort_index(ascending=False)\n",
    "rf_pivot.style.background_gradient(cmap ='Blues', axis=None, low=0.2)"
   ]
  },
  {
   "cell_type": "code",
   "execution_count": 83,
   "id": "8b706d92",
   "metadata": {
    "ExecuteTime": {
     "end_time": "2022-09-20T05:22:04.000863Z",
     "start_time": "2022-09-20T05:22:03.985901Z"
    }
   },
   "outputs": [
    {
     "data": {
      "text/html": [
       "<style type=\"text/css\">\n",
       "#T_3375e_row0_col0 {\n",
       "  background-color: #2e7ebc;\n",
       "  color: #f1f1f1;\n",
       "}\n",
       "#T_3375e_row0_col1 {\n",
       "  background-color: #0a549e;\n",
       "  color: #f1f1f1;\n",
       "}\n",
       "#T_3375e_row0_col2 {\n",
       "  background-color: #1562a9;\n",
       "  color: #f1f1f1;\n",
       "}\n",
       "#T_3375e_row0_col3 {\n",
       "  background-color: #0e59a2;\n",
       "  color: #f1f1f1;\n",
       "}\n",
       "#T_3375e_row0_col4 {\n",
       "  background-color: #08306b;\n",
       "  color: #f1f1f1;\n",
       "}\n",
       "#T_3375e_row1_col0 {\n",
       "  background-color: #85bcdc;\n",
       "  color: #000000;\n",
       "}\n",
       "#T_3375e_row1_col1 {\n",
       "  background-color: #66abd4;\n",
       "  color: #f1f1f1;\n",
       "}\n",
       "#T_3375e_row1_col2 {\n",
       "  background-color: #72b2d8;\n",
       "  color: #f1f1f1;\n",
       "}\n",
       "#T_3375e_row1_col3, #T_3375e_row1_col4 {\n",
       "  background-color: #79b5d9;\n",
       "  color: #000000;\n",
       "}\n",
       "#T_3375e_row2_col0 {\n",
       "  background-color: #b8d5ea;\n",
       "  color: #000000;\n",
       "}\n",
       "#T_3375e_row2_col1 {\n",
       "  background-color: #a9cfe5;\n",
       "  color: #000000;\n",
       "}\n",
       "#T_3375e_row2_col2 {\n",
       "  background-color: #b4d3e9;\n",
       "  color: #000000;\n",
       "}\n",
       "#T_3375e_row2_col3 {\n",
       "  background-color: #b7d4ea;\n",
       "  color: #000000;\n",
       "}\n",
       "#T_3375e_row2_col4 {\n",
       "  background-color: #b5d4e9;\n",
       "  color: #000000;\n",
       "}\n",
       "#T_3375e_row3_col0, #T_3375e_row3_col4 {\n",
       "  background-color: #cde0f1;\n",
       "  color: #000000;\n",
       "}\n",
       "#T_3375e_row3_col1 {\n",
       "  background-color: #c9ddf0;\n",
       "  color: #000000;\n",
       "}\n",
       "#T_3375e_row3_col2, #T_3375e_row3_col3 {\n",
       "  background-color: #cfe1f2;\n",
       "  color: #000000;\n",
       "}\n",
       "#T_3375e_row4_col0 {\n",
       "  background-color: #d4e4f4;\n",
       "  color: #000000;\n",
       "}\n",
       "#T_3375e_row4_col1 {\n",
       "  background-color: #d3e3f3;\n",
       "  color: #000000;\n",
       "}\n",
       "#T_3375e_row4_col2 {\n",
       "  background-color: #d6e5f4;\n",
       "  color: #000000;\n",
       "}\n",
       "#T_3375e_row4_col3 {\n",
       "  background-color: #d6e6f4;\n",
       "  color: #000000;\n",
       "}\n",
       "#T_3375e_row4_col4 {\n",
       "  background-color: #d5e5f4;\n",
       "  color: #000000;\n",
       "}\n",
       "</style>\n",
       "<table id=\"T_3375e\">\n",
       "  <thead>\n",
       "    <tr>\n",
       "      <th class=\"index_name level0\" >R</th>\n",
       "      <th id=\"T_3375e_level0_col0\" class=\"col_heading level0 col0\" >1</th>\n",
       "      <th id=\"T_3375e_level0_col1\" class=\"col_heading level0 col1\" >2</th>\n",
       "      <th id=\"T_3375e_level0_col2\" class=\"col_heading level0 col2\" >3</th>\n",
       "      <th id=\"T_3375e_level0_col3\" class=\"col_heading level0 col3\" >4</th>\n",
       "      <th id=\"T_3375e_level0_col4\" class=\"col_heading level0 col4\" >5</th>\n",
       "    </tr>\n",
       "    <tr>\n",
       "      <th class=\"index_name level0\" >F</th>\n",
       "      <th class=\"blank col0\" >&nbsp;</th>\n",
       "      <th class=\"blank col1\" >&nbsp;</th>\n",
       "      <th class=\"blank col2\" >&nbsp;</th>\n",
       "      <th class=\"blank col3\" >&nbsp;</th>\n",
       "      <th class=\"blank col4\" >&nbsp;</th>\n",
       "    </tr>\n",
       "  </thead>\n",
       "  <tbody>\n",
       "    <tr>\n",
       "      <th id=\"T_3375e_level0_row0\" class=\"row_heading level0 row0\" >5</th>\n",
       "      <td id=\"T_3375e_row0_col0\" class=\"data row0 col0\" >677505.142857</td>\n",
       "      <td id=\"T_3375e_row0_col1\" class=\"data row0 col1\" >872657.155350</td>\n",
       "      <td id=\"T_3375e_row0_col2\" class=\"data row0 col2\" >805058.838878</td>\n",
       "      <td id=\"T_3375e_row0_col3\" class=\"data row0 col3\" >849445.527885</td>\n",
       "      <td id=\"T_3375e_row0_col4\" class=\"data row0 col4\" >1045352.602290</td>\n",
       "    </tr>\n",
       "    <tr>\n",
       "      <th id=\"T_3375e_level0_row1\" class=\"row_heading level0 row1\" >4</th>\n",
       "      <td id=\"T_3375e_row1_col0\" class=\"data row1 col0\" >350022.321739</td>\n",
       "      <td id=\"T_3375e_row1_col1\" class=\"data row1 col1\" >444837.627203</td>\n",
       "      <td id=\"T_3375e_row1_col2\" class=\"data row1 col2\" >410733.411679</td>\n",
       "      <td id=\"T_3375e_row1_col3\" class=\"data row1 col3\" >391528.753290</td>\n",
       "      <td id=\"T_3375e_row1_col4\" class=\"data row1 col4\" >391200.847458</td>\n",
       "    </tr>\n",
       "    <tr>\n",
       "      <th id=\"T_3375e_level0_row2\" class=\"row_heading level0 row2\" >3</th>\n",
       "      <td id=\"T_3375e_row2_col0\" class=\"data row2 col0\" >176293.688026</td>\n",
       "      <td id=\"T_3375e_row2_col1\" class=\"data row2 col1\" >236815.814061</td>\n",
       "      <td id=\"T_3375e_row2_col2\" class=\"data row2 col2\" >193113.012247</td>\n",
       "      <td id=\"T_3375e_row2_col3\" class=\"data row2 col3\" >184586.413268</td>\n",
       "      <td id=\"T_3375e_row2_col4\" class=\"data row2 col4\" >186406.852236</td>\n",
       "    </tr>\n",
       "    <tr>\n",
       "      <th id=\"T_3375e_level0_row3\" class=\"row_heading level0 row3\" >2</th>\n",
       "      <td id=\"T_3375e_row3_col0\" class=\"data row3 col0\" >74906.690625</td>\n",
       "      <td id=\"T_3375e_row3_col1\" class=\"data row3 col1\" >104741.511282</td>\n",
       "      <td id=\"T_3375e_row3_col2\" class=\"data row3 col2\" >69292.810594</td>\n",
       "      <td id=\"T_3375e_row3_col3\" class=\"data row3 col3\" >64805.759179</td>\n",
       "      <td id=\"T_3375e_row3_col4\" class=\"data row3 col4\" >74987.260779</td>\n",
       "    </tr>\n",
       "    <tr>\n",
       "      <th id=\"T_3375e_level0_row4\" class=\"row_heading level0 row4\" >1</th>\n",
       "      <td id=\"T_3375e_row4_col0\" class=\"data row4 col0\" >33774.273416</td>\n",
       "      <td id=\"T_3375e_row4_col1\" class=\"data row4 col1\" >42114.509619</td>\n",
       "      <td id=\"T_3375e_row4_col2\" class=\"data row4 col2\" >23483.708029</td>\n",
       "      <td id=\"T_3375e_row4_col3\" class=\"data row4 col3\" >19925.583873</td>\n",
       "      <td id=\"T_3375e_row4_col4\" class=\"data row4 col4\" >29701.796186</td>\n",
       "    </tr>\n",
       "  </tbody>\n",
       "</table>\n"
      ],
      "text/plain": [
       "<pandas.io.formats.style.Styler at 0x22a89a08e80>"
      ]
     },
     "execution_count": 83,
     "metadata": {},
     "output_type": "execute_result"
    }
   ],
   "source": [
    "rf_pivot = rf_matrix.pivot(index='F', columns='R', values='avg_sales').fillna(0).sort_index(ascending=False)\n",
    "rf_pivot.style.background_gradient(cmap ='Blues', axis=None, low=0.2)"
   ]
  },
  {
   "cell_type": "code",
   "execution_count": 84,
   "id": "3d66e75d",
   "metadata": {
    "ExecuteTime": {
     "end_time": "2022-09-20T05:22:04.258533Z",
     "start_time": "2022-09-20T05:22:04.228542Z"
    }
   },
   "outputs": [
    {
     "data": {
      "text/html": [
       "<style type=\"text/css\">\n",
       "#T_53326_row0_col0 {\n",
       "  background-color: #d6e6f4;\n",
       "  color: #000000;\n",
       "}\n",
       "#T_53326_row0_col1, #T_53326_row2_col0 {\n",
       "  background-color: #d2e3f3;\n",
       "  color: #000000;\n",
       "}\n",
       "#T_53326_row0_col2 {\n",
       "  background-color: #c7dcef;\n",
       "  color: #000000;\n",
       "}\n",
       "#T_53326_row0_col3 {\n",
       "  background-color: #8fc2de;\n",
       "  color: #000000;\n",
       "}\n",
       "#T_53326_row0_col4 {\n",
       "  background-color: #08306b;\n",
       "  color: #f1f1f1;\n",
       "}\n",
       "#T_53326_row1_col0 {\n",
       "  background-color: #d6e5f4;\n",
       "  color: #000000;\n",
       "}\n",
       "#T_53326_row1_col1, #T_53326_row3_col4 {\n",
       "  background-color: #cfe1f2;\n",
       "  color: #000000;\n",
       "}\n",
       "#T_53326_row1_col2 {\n",
       "  background-color: #c2d9ee;\n",
       "  color: #000000;\n",
       "}\n",
       "#T_53326_row1_col3 {\n",
       "  background-color: #abd0e6;\n",
       "  color: #000000;\n",
       "}\n",
       "#T_53326_row1_col4 {\n",
       "  background-color: #9ac8e0;\n",
       "  color: #000000;\n",
       "}\n",
       "#T_53326_row2_col1 {\n",
       "  background-color: #bed8ec;\n",
       "  color: #000000;\n",
       "}\n",
       "#T_53326_row2_col2 {\n",
       "  background-color: #b3d3e8;\n",
       "  color: #000000;\n",
       "}\n",
       "#T_53326_row2_col3 {\n",
       "  background-color: #aed1e7;\n",
       "  color: #000000;\n",
       "}\n",
       "#T_53326_row2_col4 {\n",
       "  background-color: #b5d4e9;\n",
       "  color: #000000;\n",
       "}\n",
       "#T_53326_row3_col0 {\n",
       "  background-color: #c9ddf0;\n",
       "  color: #000000;\n",
       "}\n",
       "#T_53326_row3_col1 {\n",
       "  background-color: #b9d6ea;\n",
       "  color: #000000;\n",
       "}\n",
       "#T_53326_row3_col2 {\n",
       "  background-color: #c7dbef;\n",
       "  color: #000000;\n",
       "}\n",
       "#T_53326_row3_col3 {\n",
       "  background-color: #cbdef1;\n",
       "  color: #000000;\n",
       "}\n",
       "#T_53326_row4_col0 {\n",
       "  background-color: #cadef0;\n",
       "  color: #000000;\n",
       "}\n",
       "#T_53326_row4_col1 {\n",
       "  background-color: #cde0f1;\n",
       "  color: #000000;\n",
       "}\n",
       "#T_53326_row4_col2 {\n",
       "  background-color: #d3e4f3;\n",
       "  color: #000000;\n",
       "}\n",
       "#T_53326_row4_col3, #T_53326_row4_col4 {\n",
       "  background-color: #d5e5f4;\n",
       "  color: #000000;\n",
       "}\n",
       "</style>\n",
       "<table id=\"T_53326\">\n",
       "  <thead>\n",
       "    <tr>\n",
       "      <th class=\"index_name level0\" >R</th>\n",
       "      <th id=\"T_53326_level0_col0\" class=\"col_heading level0 col0\" >1</th>\n",
       "      <th id=\"T_53326_level0_col1\" class=\"col_heading level0 col1\" >2</th>\n",
       "      <th id=\"T_53326_level0_col2\" class=\"col_heading level0 col2\" >3</th>\n",
       "      <th id=\"T_53326_level0_col3\" class=\"col_heading level0 col3\" >4</th>\n",
       "      <th id=\"T_53326_level0_col4\" class=\"col_heading level0 col4\" >5</th>\n",
       "    </tr>\n",
       "    <tr>\n",
       "      <th class=\"index_name level0\" >F</th>\n",
       "      <th class=\"blank col0\" >&nbsp;</th>\n",
       "      <th class=\"blank col1\" >&nbsp;</th>\n",
       "      <th class=\"blank col2\" >&nbsp;</th>\n",
       "      <th class=\"blank col3\" >&nbsp;</th>\n",
       "      <th class=\"blank col4\" >&nbsp;</th>\n",
       "    </tr>\n",
       "  </thead>\n",
       "  <tbody>\n",
       "    <tr>\n",
       "      <th id=\"T_53326_level0_row0\" class=\"row_heading level0 row0\" >5</th>\n",
       "      <td id=\"T_53326_row0_col0\" class=\"data row0 col0\" >0.000455</td>\n",
       "      <td id=\"T_53326_row0_col1\" class=\"data row0 col1\" >0.008143</td>\n",
       "      <td id=\"T_53326_row0_col2\" class=\"data row0 col2\" >0.028109</td>\n",
       "      <td id=\"T_53326_row0_col3\" class=\"data row0 col3\" >0.087002</td>\n",
       "      <td id=\"T_53326_row0_col4\" class=\"data row0 col4\" >0.296185</td>\n",
       "    </tr>\n",
       "    <tr>\n",
       "      <th id=\"T_53326_level0_row1\" class=\"row_heading level0 row1\" >4</th>\n",
       "      <td id=\"T_53326_row1_col0\" class=\"data row1 col0\" >0.001546</td>\n",
       "      <td id=\"T_53326_row1_col1\" class=\"data row1 col1\" >0.014537</td>\n",
       "      <td id=\"T_53326_row1_col2\" class=\"data row1 col2\" >0.035046</td>\n",
       "      <td id=\"T_53326_row1_col3\" class=\"data row1 col3\" >0.059981</td>\n",
       "      <td id=\"T_53326_row1_col4\" class=\"data row1 col4\" >0.078389</td>\n",
       "    </tr>\n",
       "    <tr>\n",
       "      <th id=\"T_53326_level0_row2\" class=\"row_heading level0 row2\" >3</th>\n",
       "      <td id=\"T_53326_row2_col0\" class=\"data row2 col0\" >0.008848</td>\n",
       "      <td id=\"T_53326_row2_col1\" class=\"data row2 col1\" >0.038967</td>\n",
       "      <td id=\"T_53326_row2_col2\" class=\"data row2 col2\" >0.051164</td>\n",
       "      <td id=\"T_53326_row2_col3\" class=\"data row2 col3\" >0.057432</td>\n",
       "      <td id=\"T_53326_row2_col4\" class=\"data row2 col4\" >0.048660</td>\n",
       "    </tr>\n",
       "    <tr>\n",
       "      <th id=\"T_53326_level0_row3\" class=\"row_heading level0 row3\" >2</th>\n",
       "      <td id=\"T_53326_row3_col0\" class=\"data row3 col0\" >0.025382</td>\n",
       "      <td id=\"T_53326_row3_col1\" class=\"data row3 col1\" >0.044297</td>\n",
       "      <td id=\"T_53326_row3_col2\" class=\"data row3 col2\" >0.029224</td>\n",
       "      <td id=\"T_53326_row3_col3\" class=\"data row3 col3\" >0.020977</td>\n",
       "      <td id=\"T_53326_row3_col4\" class=\"data row3 col4\" >0.014225</td>\n",
       "    </tr>\n",
       "    <tr>\n",
       "      <th id=\"T_53326_level0_row4\" class=\"row_heading level0 row4\" >1</th>\n",
       "      <td id=\"T_53326_row4_col0\" class=\"data row4 col0\" >0.022051</td>\n",
       "      <td id=\"T_53326_row4_col1\" class=\"data row4 col1\" >0.017527</td>\n",
       "      <td id=\"T_53326_row4_col2\" class=\"data row4 col2\" >0.006388</td>\n",
       "      <td id=\"T_53326_row4_col3\" class=\"data row4 col3\" >0.003072</td>\n",
       "      <td id=\"T_53326_row4_col4\" class=\"data row4 col4\" >0.002392</td>\n",
       "    </tr>\n",
       "  </tbody>\n",
       "</table>\n"
      ],
      "text/plain": [
       "<pandas.io.formats.style.Styler at 0x22a89a1eb20>"
      ]
     },
     "execution_count": 84,
     "metadata": {},
     "output_type": "execute_result"
    }
   ],
   "source": [
    "rf_pivot = rf_matrix.pivot(index='F', columns='R', values='monetary').fillna(0).sort_index(ascending=False) / sum(rf_matrix['monetary'])\n",
    "rf_pivot.style.background_gradient(cmap ='Blues', axis=None, low=0.2)"
   ]
  },
  {
   "cell_type": "markdown",
   "id": "0f81a957",
   "metadata": {},
   "source": [
    "#### RFM 분석"
   ]
  },
  {
   "cell_type": "markdown",
   "id": "aba9f082",
   "metadata": {},
   "source": [
    "     a. 최고가치 유저 그룹 R5&F5\n",
    "     b. 단기 이탈 가치 유저 그룹 R4&F2~5\n",
    "     c. 장기 이탈 가치 유저 그룹 R2~3&F2~5\n",
    "     d. 최근 구매 가치 그룹 R5&F1~4"
   ]
  },
  {
   "cell_type": "code",
   "execution_count": 47,
   "id": "e869b669",
   "metadata": {
    "ExecuteTime": {
     "end_time": "2022-09-20T04:22:38.708950Z",
     "start_time": "2022-09-20T04:22:38.654998Z"
    },
    "scrolled": true
   },
   "outputs": [
    {
     "data": {
      "text/html": [
       "<div>\n",
       "<style scoped>\n",
       "    .dataframe tbody tr th:only-of-type {\n",
       "        vertical-align: middle;\n",
       "    }\n",
       "\n",
       "    .dataframe tbody tr th {\n",
       "        vertical-align: top;\n",
       "    }\n",
       "\n",
       "    .dataframe thead th {\n",
       "        text-align: right;\n",
       "    }\n",
       "</style>\n",
       "<table border=\"1\" class=\"dataframe\">\n",
       "  <thead>\n",
       "    <tr style=\"text-align: right;\">\n",
       "      <th></th>\n",
       "      <th></th>\n",
       "      <th>customer_id</th>\n",
       "      <th>monetary</th>\n",
       "    </tr>\n",
       "    <tr>\n",
       "      <th>R</th>\n",
       "      <th>M</th>\n",
       "      <th></th>\n",
       "      <th></th>\n",
       "    </tr>\n",
       "  </thead>\n",
       "  <tbody>\n",
       "    <tr>\n",
       "      <th rowspan=\"5\" valign=\"top\">5</th>\n",
       "      <th>1</th>\n",
       "      <td>3</td>\n",
       "      <td>42500.00000</td>\n",
       "    </tr>\n",
       "    <tr>\n",
       "      <th>2</th>\n",
       "      <td>61</td>\n",
       "      <td>81426.00000</td>\n",
       "    </tr>\n",
       "    <tr>\n",
       "      <th>3</th>\n",
       "      <td>9617</td>\n",
       "      <td>230695.00000</td>\n",
       "    </tr>\n",
       "    <tr>\n",
       "      <th>4</th>\n",
       "      <td>24562</td>\n",
       "      <td>492113.50000</td>\n",
       "    </tr>\n",
       "    <tr>\n",
       "      <th>5</th>\n",
       "      <td>16144</td>\n",
       "      <td>1224719.50000</td>\n",
       "    </tr>\n",
       "  </tbody>\n",
       "</table>\n",
       "</div>"
      ],
      "text/plain": [
       "     customer_id      monetary\n",
       "R M                           \n",
       "5 1            3   42500.00000\n",
       "  2           61   81426.00000\n",
       "  3         9617  230695.00000\n",
       "  4        24562  492113.50000\n",
       "  5        16144 1224719.50000"
      ]
     },
     "execution_count": 47,
     "metadata": {},
     "output_type": "execute_result"
    }
   ],
   "source": [
    "# a. 최고가치 유저 그룹 R5F4~5\n",
    "users[(users['R'] == 5) & (users['F'] >= 4)].groupby(['R', 'M']).agg({'customer_id' : 'count', 'monetary' : 'median'})\n",
    "\n",
    "# 금액대에 따라 세분화 M3~4 / M5"
   ]
  },
  {
   "cell_type": "code",
   "execution_count": 72,
   "id": "4ad75586",
   "metadata": {
    "ExecuteTime": {
     "end_time": "2022-09-20T05:14:25.092539Z",
     "start_time": "2022-09-20T05:14:25.037625Z"
    },
    "scrolled": true
   },
   "outputs": [
    {
     "data": {
      "text/html": [
       "<div>\n",
       "<style scoped>\n",
       "    .dataframe tbody tr th:only-of-type {\n",
       "        vertical-align: middle;\n",
       "    }\n",
       "\n",
       "    .dataframe tbody tr th {\n",
       "        vertical-align: top;\n",
       "    }\n",
       "\n",
       "    .dataframe thead th {\n",
       "        text-align: right;\n",
       "    }\n",
       "</style>\n",
       "<table border=\"1\" class=\"dataframe\">\n",
       "  <thead>\n",
       "    <tr style=\"text-align: right;\">\n",
       "      <th></th>\n",
       "      <th></th>\n",
       "      <th>customer_id</th>\n",
       "      <th>monetary</th>\n",
       "    </tr>\n",
       "    <tr>\n",
       "      <th>R</th>\n",
       "      <th>M</th>\n",
       "      <th></th>\n",
       "      <th></th>\n",
       "    </tr>\n",
       "  </thead>\n",
       "  <tbody>\n",
       "    <tr>\n",
       "      <th rowspan=\"5\" valign=\"top\">4</th>\n",
       "      <th>1</th>\n",
       "      <td>20577</td>\n",
       "      <td>30880.00000</td>\n",
       "    </tr>\n",
       "    <tr>\n",
       "      <th>2</th>\n",
       "      <td>15131</td>\n",
       "      <td>67400.00000</td>\n",
       "    </tr>\n",
       "    <tr>\n",
       "      <th>3</th>\n",
       "      <td>33674</td>\n",
       "      <td>162811.00000</td>\n",
       "    </tr>\n",
       "    <tr>\n",
       "      <th>4</th>\n",
       "      <td>17929</td>\n",
       "      <td>447390.00000</td>\n",
       "    </tr>\n",
       "    <tr>\n",
       "      <th>5</th>\n",
       "      <td>5444</td>\n",
       "      <td>1107330.00000</td>\n",
       "    </tr>\n",
       "  </tbody>\n",
       "</table>\n",
       "</div>"
      ],
      "text/plain": [
       "     customer_id      monetary\n",
       "R M                           \n",
       "4 1        20577   30880.00000\n",
       "  2        15131   67400.00000\n",
       "  3        33674  162811.00000\n",
       "  4        17929  447390.00000\n",
       "  5         5444 1107330.00000"
      ]
     },
     "execution_count": 72,
     "metadata": {},
     "output_type": "execute_result"
    }
   ],
   "source": [
    "# b. 단기 이탈 유저 그룹 R4&F2~5\n",
    "users[(users['R'] == 4) & ((users['F'] >= 2) & (users['F'] <= 5))]\\\n",
    "        .groupby(['R', 'M']).agg({'customer_id' : 'count', 'monetary' : 'median'})\n",
    "\n",
    "# M1~3 저가치 / M4~5 고가치"
   ]
  },
  {
   "cell_type": "code",
   "execution_count": 41,
   "id": "73210b11",
   "metadata": {
    "ExecuteTime": {
     "end_time": "2022-09-20T04:13:46.781840Z",
     "start_time": "2022-09-20T04:13:46.734924Z"
    }
   },
   "outputs": [
    {
     "data": {
      "text/html": [
       "<div>\n",
       "<style scoped>\n",
       "    .dataframe tbody tr th:only-of-type {\n",
       "        vertical-align: middle;\n",
       "    }\n",
       "\n",
       "    .dataframe tbody tr th {\n",
       "        vertical-align: top;\n",
       "    }\n",
       "\n",
       "    .dataframe thead th {\n",
       "        text-align: right;\n",
       "    }\n",
       "</style>\n",
       "<table border=\"1\" class=\"dataframe\">\n",
       "  <thead>\n",
       "    <tr style=\"text-align: right;\">\n",
       "      <th></th>\n",
       "      <th>customer_id</th>\n",
       "      <th>monetary</th>\n",
       "    </tr>\n",
       "    <tr>\n",
       "      <th>M</th>\n",
       "      <th></th>\n",
       "      <th></th>\n",
       "    </tr>\n",
       "  </thead>\n",
       "  <tbody>\n",
       "    <tr>\n",
       "      <th>1</th>\n",
       "      <td>3338</td>\n",
       "      <td>40084.00000</td>\n",
       "    </tr>\n",
       "    <tr>\n",
       "      <th>2</th>\n",
       "      <td>10583</td>\n",
       "      <td>71900.00000</td>\n",
       "    </tr>\n",
       "    <tr>\n",
       "      <th>3</th>\n",
       "      <td>36017</td>\n",
       "      <td>161316.00000</td>\n",
       "    </tr>\n",
       "    <tr>\n",
       "      <th>4</th>\n",
       "      <td>13757</td>\n",
       "      <td>419320.00000</td>\n",
       "    </tr>\n",
       "    <tr>\n",
       "      <th>5</th>\n",
       "      <td>3702</td>\n",
       "      <td>1151448.00000</td>\n",
       "    </tr>\n",
       "  </tbody>\n",
       "</table>\n",
       "</div>"
      ],
      "text/plain": [
       "   customer_id      monetary\n",
       "M                           \n",
       "1         3338   40084.00000\n",
       "2        10583   71900.00000\n",
       "3        36017  161316.00000\n",
       "4        13757  419320.00000\n",
       "5         3702 1151448.00000"
      ]
     },
     "execution_count": 41,
     "metadata": {},
     "output_type": "execute_result"
    }
   ],
   "source": [
    "#c. 장기 이탈 가치 유저 그룹 R1~3&F3~5\n",
    "users[(users['R'] <= 3) & ((users['F'] >= 3) & (users['F'] <= 5))]\\\n",
    "        .groupby(['M']).agg({'customer_id' : 'count', 'monetary' : 'median'})\n",
    "\n",
    "# M1~3 저가치 유저 / M4~5 고가치 유저"
   ]
  },
  {
   "cell_type": "code",
   "execution_count": 50,
   "id": "a9fe4a68",
   "metadata": {
    "ExecuteTime": {
     "end_time": "2022-09-20T04:23:10.493976Z",
     "start_time": "2022-09-20T04:23:10.452249Z"
    }
   },
   "outputs": [
    {
     "data": {
      "text/html": [
       "<div>\n",
       "<style scoped>\n",
       "    .dataframe tbody tr th:only-of-type {\n",
       "        vertical-align: middle;\n",
       "    }\n",
       "\n",
       "    .dataframe tbody tr th {\n",
       "        vertical-align: top;\n",
       "    }\n",
       "\n",
       "    .dataframe thead th {\n",
       "        text-align: right;\n",
       "    }\n",
       "</style>\n",
       "<table border=\"1\" class=\"dataframe\">\n",
       "  <thead>\n",
       "    <tr style=\"text-align: right;\">\n",
       "      <th></th>\n",
       "      <th></th>\n",
       "      <th>customer_id</th>\n",
       "      <th>monetary</th>\n",
       "    </tr>\n",
       "    <tr>\n",
       "      <th>R</th>\n",
       "      <th>M</th>\n",
       "      <th></th>\n",
       "      <th></th>\n",
       "    </tr>\n",
       "  </thead>\n",
       "  <tbody>\n",
       "    <tr>\n",
       "      <th rowspan=\"5\" valign=\"top\">5</th>\n",
       "      <th>1</th>\n",
       "      <td>19043</td>\n",
       "      <td>24500.00000</td>\n",
       "    </tr>\n",
       "    <tr>\n",
       "      <th>2</th>\n",
       "      <td>10404</td>\n",
       "      <td>68118.50000</td>\n",
       "    </tr>\n",
       "    <tr>\n",
       "      <th>3</th>\n",
       "      <td>22110</td>\n",
       "      <td>147630.00000</td>\n",
       "    </tr>\n",
       "    <tr>\n",
       "      <th>4</th>\n",
       "      <td>3328</td>\n",
       "      <td>380070.00000</td>\n",
       "    </tr>\n",
       "    <tr>\n",
       "      <th>5</th>\n",
       "      <td>457</td>\n",
       "      <td>1077489.00000</td>\n",
       "    </tr>\n",
       "  </tbody>\n",
       "</table>\n",
       "</div>"
      ],
      "text/plain": [
       "     customer_id      monetary\n",
       "R M                           \n",
       "5 1        19043   24500.00000\n",
       "  2        10404   68118.50000\n",
       "  3        22110  147630.00000\n",
       "  4         3328  380070.00000\n",
       "  5          457 1077489.00000"
      ]
     },
     "execution_count": 50,
     "metadata": {},
     "output_type": "execute_result"
    }
   ],
   "source": [
    "#d. 최근 구매 가치 그룹 R5&F1~3\n",
    "users[(users['R'] == 5) & (users['F'] <= 3)].groupby(['R', 'M']).agg({'customer_id' : 'count', 'monetary' : 'median'})\n",
    "\n",
    "# R5F1~3 구매 독려"
   ]
  },
  {
   "cell_type": "markdown",
   "id": "1c9aecc5",
   "metadata": {},
   "source": [
    "#### RFM Segmentation"
   ]
  },
  {
   "cell_type": "code",
   "execution_count": 3,
   "id": "e0aed367",
   "metadata": {
    "ExecuteTime": {
     "end_time": "2022-09-23T05:53:54.493811Z",
     "start_time": "2022-09-23T05:53:54.473839Z"
    }
   },
   "outputs": [],
   "source": [
    "users['segment'] = 'NaN'"
   ]
  },
  {
   "cell_type": "code",
   "execution_count": 9,
   "id": "f054706c",
   "metadata": {
    "ExecuteTime": {
     "end_time": "2022-09-27T10:10:40.054045Z",
     "start_time": "2022-09-27T10:10:39.938325Z"
    }
   },
   "outputs": [
    {
     "name": "stdout",
     "output_type": "stream",
     "text": [
      "champions %: 0.03\n",
      "Loyal Customer %: 0.06\n",
      "Recent Customer %: 0.1\n",
      "HV CNA %: 0.04\n",
      "LV CNA %: 0.13\n",
      "About to Sleep 0.21\n",
      "At Risk %: 0.03\n",
      "Hibernating %: 0.22\n"
     ]
    }
   ],
   "source": [
    "## Segmentation\n",
    "# Champions\n",
    "print(\"champions %:\", round(len(users[(users['R'] == 5) & (users['F'] >= 4) & (users['M'] == 5)]['segment']) / len(users), 2))\n",
    "\n",
    "# Loyal Customers\n",
    "print(\"Loyal Customer %:\", round(len(users[(users['R'] == 5) & (users['F'] >= 4) & ((users['M'] >= 3) & (users['M'] <= 4))]['segment']) / len(users), 2))\n",
    "\n",
    "# Recent Customer\n",
    "print(\"Recent Customer %:\", round((len(users[(users['R'] == 5) & (users['F'] == 4) & (users['M'] < 3)]['segment']) + len(users[(users['R'] == 5) & (users['F'] < 4)]['segment'])) / len(users), 2))\n",
    "\n",
    "# HV CNA\n",
    "print(\"HV CNA %:\", round(len(users[(users['R'] == 4) & (users['F'] >= 2) & (users['M'] >= 4)]['segment']) / len(users), 2))\n",
    "\n",
    "# LV CNA\n",
    "print(\"LV CNA %:\", round(len(users[(users['R'] == 4) & (users['F'] >= 2) & (users['M'] < 4)]['segment']) / len(users), 2))\n",
    "\n",
    "# About to Sleep\n",
    "print(\"About to Sleep\", round(len(users[(users['R'] <= 3) & (users['F'] >= 2) & (users['M'] >= 2)]['segment']) / len(users), 2))\n",
    "\n",
    "# At Risk\n",
    "print(\"At Risk %:\", round(len(users[(users['R'] <= 3) & (users['F'] >= 3) & (users['M'] >= 4)]['segment']) / len(users), 2))\n",
    "\n",
    "# Hibernating\n",
    "print(\"Hibernating %:\", round(len(users[(users['R'] <= 3) & (users['F'] == 2) & (users['M'] <= 3)]['segment']) / len(users), 2))"
   ]
  },
  {
   "cell_type": "code",
   "execution_count": 10,
   "id": "973458e7",
   "metadata": {
    "ExecuteTime": {
     "end_time": "2022-09-27T10:10:45.190817Z",
     "start_time": "2022-09-27T10:10:45.115626Z"
    }
   },
   "outputs": [],
   "source": [
    "## Segmentation\n",
    "\n",
    "# champions\n",
    "users.loc[(users['R'] == 5) & (users['F'] >= 4) & (users['M'] == 5), 'segment'] = 'C'\n",
    "\n",
    "# Loyal Customers\n",
    "users.loc[(users['R'] == 5) & (users['F'] >= 4) & ((users['M'] >= 3) & (users['M'] <= 4)), 'segment'] = 'LC'\n",
    "\n",
    "# Recent Customer\n",
    "users.loc[(users['R'] == 5) & (users['F'] == 4) & (users['M'] < 3), 'segment'] = 'RC'\n",
    "users.loc[(users['R'] == 5) & (users['F'] < 4) , 'segment'] = 'RC'\n",
    "\n",
    "# HV CNA\n",
    "users.loc[(users['R'] == 4) & (users['F'] >= 2) & (users['M'] >= 4), 'segment'] = 'H_CNA'\n",
    "\n",
    "# LV CNA\n",
    "users.loc[(users['R'] == 4) & (users['F'] >= 2) & (users['M'] < 4), 'segment'] = 'L_CNA'\n",
    "\n",
    "# About To Sleep\n",
    "users.loc[(users['R'] <= 3) & (users['F'] >= 3) & (users['M'] >= 2), 'segment'] = 'AS'\n",
    "\n",
    "# At Rist\n",
    "users.loc[(users['R'] <= 3) & (users['F'] >= 3) & (users['M'] >= 4), 'segment'] = 'AR'\n",
    "\n",
    "# Hibernating\n",
    "users.loc[(users['R'] <= 3) & (users['F'] == 2) & (users['M'] <= 3), 'segment'] = 'H'"
   ]
  },
  {
   "cell_type": "code",
   "execution_count": 11,
   "id": "a0dd6129",
   "metadata": {
    "ExecuteTime": {
     "end_time": "2022-09-27T10:10:50.775584Z",
     "start_time": "2022-09-27T10:10:50.731130Z"
    },
    "scrolled": true
   },
   "outputs": [
    {
     "data": {
      "text/plain": [
       "H       22.46766\n",
       "L_CNA   12.73249\n",
       "RC      10.16771\n",
       "AS       9.32062\n",
       "LC       6.27229\n",
       "H_CNA    4.28925\n",
       "AR       3.20395\n",
       "C        2.96263\n",
       "Name: segment, dtype: float64"
      ]
     },
     "execution_count": 11,
     "metadata": {},
     "output_type": "execute_result"
    }
   ],
   "source": [
    "# segmentation별 비중\n",
    "users.segment.value_counts() / len(users) * 100"
   ]
  }
 ],
 "metadata": {
  "kernelspec": {
   "display_name": "Python 3 (ipykernel)",
   "language": "python",
   "name": "python3"
  },
  "language_info": {
   "codemirror_mode": {
    "name": "ipython",
    "version": 3
   },
   "file_extension": ".py",
   "mimetype": "text/x-python",
   "name": "python",
   "nbconvert_exporter": "python",
   "pygments_lexer": "ipython3",
   "version": "3.8.13"
  },
  "toc": {
   "base_numbering": 1,
   "nav_menu": {},
   "number_sections": false,
   "sideBar": true,
   "skip_h1_title": false,
   "title_cell": "Table of Contents",
   "title_sidebar": "Contents",
   "toc_cell": false,
   "toc_position": {},
   "toc_section_display": true,
   "toc_window_display": false
  },
  "varInspector": {
   "cols": {
    "lenName": 16,
    "lenType": 16,
    "lenVar": 40
   },
   "kernels_config": {
    "python": {
     "delete_cmd_postfix": "",
     "delete_cmd_prefix": "del ",
     "library": "var_list.py",
     "varRefreshCmd": "print(var_dic_list())"
    },
    "r": {
     "delete_cmd_postfix": ") ",
     "delete_cmd_prefix": "rm(",
     "library": "var_list.r",
     "varRefreshCmd": "cat(var_dic_list()) "
    }
   },
   "types_to_exclude": [
    "module",
    "function",
    "builtin_function_or_method",
    "instance",
    "_Feature"
   ],
   "window_display": false
  }
 },
 "nbformat": 4,
 "nbformat_minor": 5
}
