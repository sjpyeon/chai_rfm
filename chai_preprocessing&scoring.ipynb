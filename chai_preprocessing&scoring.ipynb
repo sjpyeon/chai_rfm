{
 "cells": [
  {
   "cell_type": "code",
   "execution_count": 1,
   "id": "283ae5ef",
   "metadata": {
    "ExecuteTime": {
     "end_time": "2022-10-01T09:45:42.783486Z",
     "start_time": "2022-10-01T09:45:30.488126Z"
    }
   },
   "outputs": [],
   "source": [
    "# 라이브러리 임포트\n",
    "import pandas as pd\n",
    "import numpy as np\n",
    "import seaborn as sns\n",
    "import matplotlib.pyplot as plt\n",
    "import datetime as dt\n",
    "from datetime import date\n",
    "import warnings\n",
    "warnings.simplefilter(action='ignore', category=FutureWarning) # FutureWarning 제거\n",
    "\n",
    "# 숫자형 데이터 지수표현법에서 float로 변경\n",
    "pd.options.display.float_format = '{:.5f}'.format"
   ]
  },
  {
   "cell_type": "markdown",
   "id": "18de160f",
   "metadata": {},
   "source": [
    "### Purchase Log 파일 전처리"
   ]
  },
  {
   "cell_type": "code",
   "execution_count": 2,
   "id": "fd222cbb",
   "metadata": {
    "ExecuteTime": {
     "end_time": "2022-10-01T09:46:46.215015Z",
     "start_time": "2022-10-01T09:45:42.821498Z"
    }
   },
   "outputs": [],
   "source": [
    "# 데이터 load 및 created_at, sign_up_date 날짜 형식으로 변환\n",
    "chai = pd.read_csv('chai.csv', encoding = 'utf-8')\n",
    "chai['created_at'] = pd.to_datetime(chai['created_at'])\n",
    "chai['sign_up_date'] = pd.to_datetime(chai['sign_up_date'])"
   ]
  },
  {
   "cell_type": "code",
   "execution_count": 3,
   "id": "05c6c778",
   "metadata": {
    "ExecuteTime": {
     "end_time": "2022-10-01T09:46:46.385229Z",
     "start_time": "2022-10-01T09:46:46.342245Z"
    }
   },
   "outputs": [
    {
     "name": "stdout",
     "output_type": "stream",
     "text": [
      "<class 'pandas.core.frame.DataFrame'>\n",
      "RangeIndex: 5623810 entries, 0 to 5623809\n",
      "Data columns (total 13 columns):\n",
      " #   Column           Dtype         \n",
      "---  ------           -----         \n",
      " 0   customer_id      int64         \n",
      " 1   created_at       datetime64[ns]\n",
      " 2   pre_discount     int64         \n",
      " 3   post_discount    int64         \n",
      " 4   cashback_amount  int64         \n",
      " 5   discount_amount  int64         \n",
      " 6   total_promotion  int64         \n",
      " 7   push_permission  bool          \n",
      " 8   gender           object        \n",
      " 9   is_foreigner     bool          \n",
      " 10  birthday         object        \n",
      " 11  sign_up_date     datetime64[ns]\n",
      " 12  merchant_id      int64         \n",
      "dtypes: bool(2), datetime64[ns](2), int64(7), object(2)\n",
      "memory usage: 482.7+ MB\n"
     ]
    }
   ],
   "source": [
    "chai.info()"
   ]
  },
  {
   "cell_type": "code",
   "execution_count": 4,
   "id": "a58e6a11",
   "metadata": {
    "ExecuteTime": {
     "end_time": "2022-10-01T09:46:54.974108Z",
     "start_time": "2022-10-01T09:46:46.457971Z"
    }
   },
   "outputs": [],
   "source": [
    "## 신규 컬럼 추가\n",
    "\n",
    "# 컬럼 추가: 캐시백 %, 할인 %\n",
    "chai_dc = chai.iloc[chai[chai['discount_amount'] > 0].index]\n",
    "chai_cb = chai.iloc[chai[chai['cashback_amount'] > 0].index]\n",
    "chai['dc_pct'] = (chai_dc['discount_amount'] / chai_dc['pre_discount'])\n",
    "chai['cb_pct'] = (chai_cb['cashback_amount'] / chai_cb['post_discount'])\n",
    "\n",
    "# 컬럼 추가: 캐시백 적립 / 할인 / 할인 + 캐시백\n",
    "chai['type'] = 1\n",
    "chai.loc[chai[(chai['discount_amount'] != 0) & (chai['cashback_amount'] == 0)].index, 'type'] = 'dc'\n",
    "chai.loc[chai[(chai['cashback_amount'] != 0) & (chai['discount_amount'] == 0)].index, 'type'] = 'cb'\n",
    "chai.loc[chai[(chai['cashback_amount'] != 0) & (chai['discount_amount'] != 0)].index, 'type'] = 'dc + cb'\n",
    "chai.loc[chai[(chai['cashback_amount'] == 0) & (chai['discount_amount'] == 0)].index, 'type'] = 'n.a'"
   ]
  },
  {
   "cell_type": "code",
   "execution_count": 5,
   "id": "83f0da41",
   "metadata": {
    "ExecuteTime": {
     "end_time": "2022-10-01T09:47:29.749116Z",
     "start_time": "2022-10-01T09:46:55.156451Z"
    }
   },
   "outputs": [
    {
     "data": {
      "image/png": "[encoded data removed]",
      "text/plain": [
       "<Figure size 576x288 with 1 Axes>"
      ]
     },
     "metadata": {
      "needs_background": "light"
     },
     "output_type": "display_data"
    },
    {
     "data": {
      "image/png": "[encoded data removed]",
      "text/plain": [
       "<Figure size 432x288 with 1 Axes>"
      ]
     },
     "metadata": {
      "needs_background": "light"
     },
     "output_type": "display_data"
    }
   ],
   "source": [
    "## 비정상 결제 / 취소 후 재결제 건 전처리\n",
    "\n",
    "# customer_id, post_discount, total_promotion이 동일한 로그의 creeated at Lag 값 구하기 NaT면 첫 결제 건, 이전 결제에서 걸린 시간 컬럼 추가\n",
    "chai['created_at_lag'] = chai.sort_values(['created_at'])\\\n",
    "                        .groupby(['customer_id', 'post_discount', 'total_promotion'])['created_at'].shift(1)\n",
    "chai['created_at_diff'] = chai['created_at'] - chai['created_at_lag']\n",
    "chai['created_at_diff'] = chai['created_at_diff'].dt.total_seconds()\n",
    "\n",
    "# 동일 customerid, post discount, total promotion 가진 로그 중 lag 24시간 이내 시각화\n",
    "dup = chai[chai.duplicated(['customer_id', 'post_discount', 'total_promotion'])]\n",
    "dup.sort_values(['customer_id', 'post_discount', 'total_promotion', 'created_at'])\n",
    "\n",
    "# histogram 시각화\n",
    "f, ax = plt.subplots(1, figsize = (8, 4))\n",
    "sns.distplot(x = dup[dup['created_at_diff'] < 3600]['created_at_diff'], ax = ax)\n",
    "ax.set_title('timediff', size=15)\n",
    "ax.set_ylabel('')\n",
    "ax.tick_params(axis = 'y', labelsize = 12)\n",
    "ax.tick_params(axis = 'x', labelsize = 12)\n",
    "# boxplot 시각화\n",
    "f, ax = plt.subplots(1, figsize = (6, 4))\n",
    "sns.boxplot(y = dup[dup['created_at_diff'] < 3600]['created_at_diff'], ax = ax)\n",
    "ax.set_title('timediff', size=15)\n",
    "ax.set_ylabel('')\n",
    "ax.tick_params(axis = 'y', labelsize = 12)\n",
    "\n",
    "# lag 24시간 이내 값 중 outlier를 제외한 값 전처리\n",
    "q1 = dup[dup['created_at_diff'] < 3600]['created_at_diff'].quantile(0.25)\n",
    "q3 = dup[dup['created_at_diff'] < 3600]['created_at_diff'].quantile(0.75)\n",
    "iqr = q3 - q1\n",
    "outlier = q3 + 1.5 * iqr\n",
    "chai.drop(dup[dup['created_at_diff'] < outlier]['created_at_diff'].index, inplace = True)\n",
    "chai.reset_index(drop = True, inplace = True)\n",
    "\n",
    "# 컬럼 삭제\n",
    "chai.drop(columns = ['created_at_diff', 'created_at_lag'], inplace = True)"
   ]
  },
  {
   "cell_type": "code",
   "execution_count": 7,
   "id": "c1ea5005",
   "metadata": {
    "ExecuteTime": {
     "end_time": "2022-10-01T09:47:32.527104Z",
     "start_time": "2022-10-01T09:47:30.282645Z"
    }
   },
   "outputs": [],
   "source": [
    "# 캐시백 구매 건 구매일시 outlier 제거\n",
    "chai.drop(index = chai[chai['type'] == 'dc + cb']['created_at'].sort_values()[:1].index, inplace = True)"
   ]
  },
  {
   "cell_type": "code",
   "execution_count": 8,
   "id": "461ab94a",
   "metadata": {
    "ExecuteTime": {
     "end_time": "2022-10-01T09:47:32.805212Z",
     "start_time": "2022-10-01T09:47:32.735021Z"
    }
   },
   "outputs": [
    {
     "name": "stdout",
     "output_type": "stream",
     "text": [
      "<class 'pandas.core.frame.DataFrame'>\n",
      "Int64Index: 5525903 entries, 0 to 5525903\n",
      "Data columns (total 16 columns):\n",
      " #   Column           Dtype         \n",
      "---  ------           -----         \n",
      " 0   customer_id      int64         \n",
      " 1   created_at       datetime64[ns]\n",
      " 2   pre_discount     int64         \n",
      " 3   post_discount    int64         \n",
      " 4   cashback_amount  int64         \n",
      " 5   discount_amount  int64         \n",
      " 6   total_promotion  int64         \n",
      " 7   push_permission  bool          \n",
      " 8   gender           object        \n",
      " 9   is_foreigner     bool          \n",
      " 10  birthday         object        \n",
      " 11  sign_up_date     datetime64[ns]\n",
      " 12  merchant_id      int64         \n",
      " 13  dc_pct           float64       \n",
      " 14  cb_pct           float64       \n",
      " 15  type             object        \n",
      "dtypes: bool(2), datetime64[ns](2), float64(2), int64(7), object(3)\n",
      "memory usage: 642.9+ MB\n"
     ]
    }
   ],
   "source": [
    "chai.info()"
   ]
  },
  {
   "cell_type": "code",
   "execution_count": 9,
   "id": "1212b803",
   "metadata": {
    "ExecuteTime": {
     "end_time": "2022-10-01T09:50:09.702727Z",
     "start_time": "2022-10-01T09:47:33.045475Z"
    }
   },
   "outputs": [],
   "source": [
    "chai.to_csv('chai_processed.csv', encoding = 'utf-8', index = False)"
   ]
  },
  {
   "cell_type": "markdown",
   "id": "764de339",
   "metadata": {},
   "source": [
    "### RFM 분석 컬럼 추가"
   ]
  },
  {
   "cell_type": "markdown",
   "id": "6cb67483",
   "metadata": {},
   "source": [
    "• Recency : 얼마나 최근에 구매했는가 </br>\n",
    "• Frequency : 얼마나 자주 구매했는가 </br>\n",
    "• Monetary : 얼마나 많은 금액을 지출했는가"
   ]
  },
  {
   "cell_type": "code",
   "execution_count": 12,
   "id": "c2f1dcda",
   "metadata": {
    "ExecuteTime": {
     "end_time": "2022-10-01T09:50:32.543167Z",
     "start_time": "2022-10-01T09:50:19.810181Z"
    }
   },
   "outputs": [],
   "source": [
    "users = chai.groupby('customer_id').agg({'created_at' : ['max','nunique'], 'post_discount' : 'sum'}).reset_index()\n",
    "users.columns  = users.columns.droplevel(1)\n",
    "users.columns = ['customer_id', 'recency', 'frequency', 'monetary']\n",
    "users['recency'] = users['recency'].dt.date\n",
    "users['recency'] = (users['recency'].max() - users['recency']).dt.days"
   ]
  },
  {
   "cell_type": "code",
   "execution_count": 13,
   "id": "1c460047",
   "metadata": {
    "ExecuteTime": {
     "end_time": "2022-10-01T09:50:32.849785Z",
     "start_time": "2022-10-01T09:50:32.763499Z"
    }
   },
   "outputs": [
    {
     "name": "stdout",
     "output_type": "stream",
     "text": [
      "<class 'pandas.core.frame.DataFrame'>\n",
      "RangeIndex: 544921 entries, 0 to 544920\n",
      "Data columns (total 4 columns):\n",
      " #   Column       Non-Null Count   Dtype\n",
      "---  ------       --------------   -----\n",
      " 0   customer_id  544921 non-null  int64\n",
      " 1   recency      544921 non-null  int64\n",
      " 2   frequency    544921 non-null  int64\n",
      " 3   monetary     544921 non-null  int64\n",
      "dtypes: int64(4)\n",
      "memory usage: 16.6 MB\n"
     ]
    }
   ],
   "source": [
    "users.info()"
   ]
  },
  {
   "cell_type": "code",
   "execution_count": 14,
   "id": "521bd0a7",
   "metadata": {
    "ExecuteTime": {
     "end_time": "2022-10-01T09:50:33.585684Z",
     "start_time": "2022-10-01T09:50:33.246793Z"
    }
   },
   "outputs": [
    {
     "data": {
      "text/html": [
       "<div>\n",
       "<style scoped>\n",
       "    .dataframe tbody tr th:only-of-type {\n",
       "        vertical-align: middle;\n",
       "    }\n",
       "\n",
       "    .dataframe tbody tr th {\n",
       "        vertical-align: top;\n",
       "    }\n",
       "\n",
       "    .dataframe thead th {\n",
       "        text-align: right;\n",
       "    }\n",
       "</style>\n",
       "<table border=\"1\" class=\"dataframe\">\n",
       "  <thead>\n",
       "    <tr style=\"text-align: right;\">\n",
       "      <th></th>\n",
       "      <th>customer_id</th>\n",
       "      <th>recency</th>\n",
       "      <th>frequency</th>\n",
       "      <th>monetary</th>\n",
       "    </tr>\n",
       "  </thead>\n",
       "  <tbody>\n",
       "    <tr>\n",
       "      <th>count</th>\n",
       "      <td>544921.00000</td>\n",
       "      <td>544921.00000</td>\n",
       "      <td>544921.00000</td>\n",
       "      <td>544921.00000</td>\n",
       "    </tr>\n",
       "    <tr>\n",
       "      <th>mean</th>\n",
       "      <td>272461.00000</td>\n",
       "      <td>75.07346</td>\n",
       "      <td>10.14074</td>\n",
       "      <td>191158.69095</td>\n",
       "    </tr>\n",
       "    <tr>\n",
       "      <th>std</th>\n",
       "      <td>157305.28736</td>\n",
       "      <td>71.01839</td>\n",
       "      <td>20.12898</td>\n",
       "      <td>411243.04312</td>\n",
       "    </tr>\n",
       "    <tr>\n",
       "      <th>min</th>\n",
       "      <td>1.00000</td>\n",
       "      <td>0.00000</td>\n",
       "      <td>1.00000</td>\n",
       "      <td>0.00000</td>\n",
       "    </tr>\n",
       "    <tr>\n",
       "      <th>25%</th>\n",
       "      <td>136231.00000</td>\n",
       "      <td>18.00000</td>\n",
       "      <td>1.00000</td>\n",
       "      <td>19904.00000</td>\n",
       "    </tr>\n",
       "    <tr>\n",
       "      <th>50%</th>\n",
       "      <td>272461.00000</td>\n",
       "      <td>53.00000</td>\n",
       "      <td>3.00000</td>\n",
       "      <td>59900.00000</td>\n",
       "    </tr>\n",
       "    <tr>\n",
       "      <th>75%</th>\n",
       "      <td>408691.00000</td>\n",
       "      <td>114.00000</td>\n",
       "      <td>10.00000</td>\n",
       "      <td>189000.00000</td>\n",
       "    </tr>\n",
       "    <tr>\n",
       "      <th>max</th>\n",
       "      <td>544921.00000</td>\n",
       "      <td>243.00000</td>\n",
       "      <td>2327.00000</td>\n",
       "      <td>30967174.00000</td>\n",
       "    </tr>\n",
       "  </tbody>\n",
       "</table>\n",
       "</div>"
      ],
      "text/plain": [
       "       customer_id      recency    frequency       monetary\n",
       "count 544921.00000 544921.00000 544921.00000   544921.00000\n",
       "mean  272461.00000     75.07346     10.14074   191158.69095\n",
       "std   157305.28736     71.01839     20.12898   411243.04312\n",
       "min        1.00000      0.00000      1.00000        0.00000\n",
       "25%   136231.00000     18.00000      1.00000    19904.00000\n",
       "50%   272461.00000     53.00000      3.00000    59900.00000\n",
       "75%   408691.00000    114.00000     10.00000   189000.00000\n",
       "max   544921.00000    243.00000   2327.00000 30967174.00000"
      ]
     },
     "execution_count": 14,
     "metadata": {},
     "output_type": "execute_result"
    }
   ],
   "source": [
    "users.describe()"
   ]
  },
  {
   "cell_type": "code",
   "execution_count": 15,
   "id": "32b7d574",
   "metadata": {
    "ExecuteTime": {
     "end_time": "2022-10-01T09:51:10.023612Z",
     "start_time": "2022-10-01T09:50:34.089627Z"
    },
    "scrolled": false
   },
   "outputs": [
    {
     "data": {
      "text/plain": [
       "Text(0, 0.5, '')"
      ]
     },
     "execution_count": 15,
     "metadata": {},
     "output_type": "execute_result"
    },
    {
     "data": {
      "image/png": "[encoded data removed]",
      "text/plain": [
       "<Figure size 1440x720 with 4 Axes>"
      ]
     },
     "metadata": {
      "needs_background": "light"
     },
     "output_type": "display_data"
    }
   ],
   "source": [
    "## RFM 시각화\n",
    "f, ax = plt.subplots(2, 2, figsize = (20, 10))\n",
    "sns.distplot(x = users['recency'], ax = ax[0,0])\n",
    "ax[0,0].set_title('recency', size=15)\n",
    "ax[0,0].set_ylabel('')\n",
    "sns.distplot(x = users['frequency'], ax = ax[0,1])\n",
    "ax[0,1].set_title('frequency', size=15)\n",
    "ax[0,1].set_ylabel('')\n",
    "sns.distplot(x = users['monetary'], ax = ax[1,0])\n",
    "ax[1,0].set_title('monetary', size=15)\n",
    "ax[1,0].set_ylabel('')"
   ]
  },
  {
   "cell_type": "markdown",
   "id": "d7d438fd",
   "metadata": {},
   "source": [
    "### RFM 스코어링"
   ]
  },
  {
   "cell_type": "code",
   "execution_count": 18,
   "id": "33bac32c",
   "metadata": {
    "ExecuteTime": {
     "end_time": "2022-10-01T09:51:11.361631Z",
     "start_time": "2022-10-01T09:51:10.448103Z"
    }
   },
   "outputs": [
    {
     "name": "stdout",
     "output_type": "stream",
     "text": [
      "R 1점: 139일 이상\n",
      "R 2점: 70 ~ 138일\n",
      "R 3점: 36 ~ 69일\n",
      "R 4점: 12 ~ 35일\n",
      "R 5점: 11일 이하\n"
     ]
    }
   ],
   "source": [
    "# R score\n",
    "users['R_pct'] = users['recency'].rank(method = 'max') / len(users)\n",
    "r1_min = min(users[users['R_pct'] > 0.8]['recency'])\n",
    "r2_min = min(users[(users['R_pct'] <= 0.8) & (users['R_pct'] > 0.6)]['recency'])\n",
    "r3_min = min(users[(users['R_pct'] <= 0.6) & (users['R_pct'] > 0.4)]['recency'])\n",
    "r4_min = min(users[(users['R_pct'] <= 0.4) & (users['R_pct'] > 0.2)]['recency'])\n",
    "print(f\"R 1점: {r1_min}일 이상\")\n",
    "print(f\"R 2점: {r2_min} ~ {r1_min - 1}일\")\n",
    "print(f\"R 3점: {r3_min} ~ {r2_min - 1}일\")\n",
    "print(f\"R 4점: {r4_min} ~ {r3_min - 1}일\")\n",
    "print(f\"R 5점: {r4_min - 1}일 이하\")\n",
    "\n",
    "# scoring\n",
    "users['R'] = 0\n",
    "users.loc[users[users['recency'] >= r1_min].index, 'R'] = 1\n",
    "users.loc[users[(users['recency'] < r1_min) & (users['recency'] >= r2_min)].index, 'R'] = 2\n",
    "users.loc[users[(users['recency'] < r2_min) & (users['recency'] >= r3_min)].index, 'R'] = 3\n",
    "users.loc[users[(users['recency'] < r3_min) & (users['recency'] >= r4_min)].index, 'R'] = 4\n",
    "users.loc[users[(users['recency'] < r4_min)].index, 'R'] = 5\n",
    "users.drop(columns = 'R_pct', inplace = True)"
   ]
  },
  {
   "cell_type": "code",
   "execution_count": 19,
   "id": "f3cdd6f5",
   "metadata": {
    "ExecuteTime": {
     "end_time": "2022-10-01T09:51:11.817700Z",
     "start_time": "2022-10-01T09:51:11.367616Z"
    },
    "scrolled": true
   },
   "outputs": [
    {
     "name": "stdout",
     "output_type": "stream",
     "text": [
      "F 1점: 1회 구매자\n",
      "F 2점: 2 ~ 5회 구매자\n",
      "F 3점: 6 ~ 15회 구매자\n",
      "F 4점: 16 ~ 30회 구매자\n",
      "F 5점: 31회 이상 구매자\n"
     ]
    }
   ],
   "source": [
    "# F score\n",
    "f1_max = 1\n",
    "print(f\"F 1점: {f1_max}회 구매자\")\n",
    "f2_max = int(users[users['frequency'] > 1].median().frequency - 1)\n",
    "print(f\"F 2점: {f1_max+1} ~ {f2_max}회 구매자\")\n",
    "f3_max = int(users[users['frequency'] > f2_max+1].median().frequency - 1)\n",
    "print(f\"F 3점: {f2_max+1} ~ {f3_max}회 구매자\")\n",
    "f4_max = int(users[users['frequency'] > f3_max+1].median().frequency - 1)\n",
    "print(f\"F 4점: {f3_max+1} ~ {f4_max}회 구매자\")\n",
    "print(f\"F 5점: {f4_max+1}회 이상 구매자\")\n",
    "\n",
    "# scoring\n",
    "users['F'] = 0\n",
    "users.loc[users[users['frequency'] == f1_max].index, 'F'] = 1\n",
    "users.loc[users[(users['frequency'] <= f2_max) & (users['frequency'] > f1_max)].index, 'F'] = 2\n",
    "users.loc[users[(users['frequency'] <= f3_max) & (users['frequency'] > f2_max)].index, 'F'] = 3\n",
    "users.loc[users[(users['frequency'] <= f4_max) & (users['frequency'] > f3_max)].index, 'F'] = 4\n",
    "users.loc[users[(users['frequency'] > f4_max)].index, 'F'] = 5"
   ]
  },
  {
   "cell_type": "code",
   "execution_count": 22,
   "id": "b9709549",
   "metadata": {
    "ExecuteTime": {
     "end_time": "2022-10-01T09:51:14.281611Z",
     "start_time": "2022-10-01T09:51:13.044614Z"
    },
    "scrolled": false
   },
   "outputs": [
    {
     "name": "stdout",
     "output_type": "stream",
     "text": [
      "M 1점: 구매액 180000원 미만\n",
      "M 2점: 구매액 180000 ~ 420000원 미만\n",
      "M 3점: 구매액 420000 ~ 800000원 미만\n",
      "M 4점: 구매액 800000 ~ 1500000원 미만\n",
      "M 5점: 1500000원 이상\n",
      "------------추가 Description------------\n",
      "M 1점: 5% 매출을 내는  74.04 % 고객\n",
      "M 2점: 5% 매출을 내는 14.11 % 고객\n",
      "M 3점: 20% 매출을 내는 6.7 % 고객\n",
      "M 4점: 30% 매출을 내는 3.58 % 고객\n",
      "M 5점: 40% 매출을 내는 1.57 % 고객\n"
     ]
    }
   ],
   "source": [
    "# M score\n",
    "users['M_pct'] = users['monetary'].sort_values(ascending = False).cumsum() / max(users['monetary'].sort_values(ascending = False).cumsum())\n",
    "# m1_min = min(users[(users['M_pct'] > 0.95)]['monetary'])\n",
    "# m1_max = max(users[(users['M_pct'] > 0.95)]['monetary'])\n",
    "# print(f\"M 1점: 구매액 {m1_min} ~ {m1_max}원\")\n",
    "# m2_min = min(users[(users['M_pct'] > 0.9) & (users['M_pct'] <= 0.95)]['monetary'])\n",
    "# m2_max = max(users[(users['M_pct'] > 0.9) & (users['M_pct'] <= 0.95)]['monetary'])\n",
    "# print(f\"M 2점: 구매액 {m2_min} ~ {m2_max}원\")\n",
    "# m3_min = min(users[(users['M_pct'] > 0.7) & (users['M_pct'] <= 0.9)]['monetary'])\n",
    "# m3_max = max(users[(users['M_pct'] > 0.7) & (users['M_pct'] <= 0.9)]['monetary'])\n",
    "# print(f\"M 3점: 구매액 {m3_min} ~ {m3_max}원\")\n",
    "# m4_min = min(users[(users['M_pct'] > 0.4) & (users['M_pct'] <= 0.7)]['monetary'])\n",
    "# m4_max = max(users[(users['M_pct'] > 0.4) & (users['M_pct'] <= 0.7)]['monetary'])\n",
    "# print(f\"M 4점: 구매액 {m4_min} ~ {m4_max}원\")\n",
    "# m5_min = min(users[(users['M_pct'] <= 0.4)]['monetary'])\n",
    "# m5_max = max(users[(users['M_pct'] <= 0.4)]['monetary'])\n",
    "# print(f\"M 5점: 구매액 {m5_min} ~ {m5_max}원\")\n",
    "# print(\"\\n\")\n",
    "# print('----------- 금액대 정립 -----------')\n",
    "m1_max = 180000\n",
    "m2_max = 420000\n",
    "m3_max = 800000\n",
    "m4_max = 1500000\n",
    "print(f\"M 1점: 구매액 {m1_max}원 미만\")\n",
    "print(f\"M 2점: 구매액 {m1_max} ~ {m2_max}원 미만\")\n",
    "print(f\"M 3점: 구매액 {m2_max} ~ {m3_max}원 미만\")\n",
    "print(f\"M 4점: 구매액 {m3_max} ~ {m4_max}원 미만\")\n",
    "print(f\"M 5점: {m4_max}원 이상\")\n",
    "print(\"------------추가 Description------------\")\n",
    "print(\"M 1점: 5% 매출을 내는 \",round(len(users[users['monetary'] < m1_max]) / len(users)*100,2), \"% 고객\")\n",
    "print(\"M 2점: 5% 매출을 내는\",round(len(users[(users['monetary'] < m2_max) & (users['monetary'] >= m1_max)])*100 / len(users),2), \"% 고객\")\n",
    "print(\"M 3점: 20% 매출을 내는\",round(len(users[(users['monetary'] < m3_max) & (users['monetary'] >= m2_max)])*100 / len(users),2), \"% 고객\")\n",
    "print(\"M 4점: 30% 매출을 내는\",round(len(users[(users['monetary'] < m4_max) & (users['monetary'] >= m3_max)])*100 / len(users),2), \"% 고객\")\n",
    "print(\"M 5점: 40% 매출을 내는\",round(len(users[(users['monetary'] >= m4_max)]) / len(users)*100,2), \"% 고객\")\n",
    "\n",
    "# scoring\n",
    "users['M'] = 0\n",
    "users.loc[users[users['monetary'] < m1_max].index, 'M'] = 1\n",
    "users.loc[users[(users['monetary'] < m2_max) & (users['monetary'] >= m1_max)].index, 'M'] = 2\n",
    "users.loc[users[(users['monetary'] < m3_max) & (users['monetary'] >= m2_max)].index, 'M'] = 3\n",
    "users.loc[users[(users['monetary'] < m4_max) & (users['monetary'] >= m3_max)].index, 'M'] = 4\n",
    "users.loc[users[(users['monetary'] >= m4_max)].index, 'M'] = 5\n",
    "users.drop(columns = 'M_pct', inplace = True)"
   ]
  },
  {
   "cell_type": "code",
   "execution_count": 23,
   "id": "5dcbff75",
   "metadata": {
    "ExecuteTime": {
     "end_time": "2022-10-01T09:51:17.996886Z",
     "start_time": "2022-10-01T09:51:14.286596Z"
    }
   },
   "outputs": [],
   "source": [
    "users.to_csv('users_RFM.csv', encoding = 'utf-8', index = False)"
   ]
  }
 ],
 "metadata": {
  "kernelspec": {
   "display_name": "Python 3 (ipykernel)",
   "language": "python",
   "name": "python3"
  },
  "language_info": {
   "codemirror_mode": {
    "name": "ipython",
    "version": 3
   },
   "file_extension": ".py",
   "mimetype": "text/x-python",
   "name": "python",
   "nbconvert_exporter": "python",
   "pygments_lexer": "ipython3",
   "version": "3.8.13"
  },
  "toc": {
   "base_numbering": 1,
   "nav_menu": {},
   "number_sections": false,
   "sideBar": true,
   "skip_h1_title": false,
   "title_cell": "Table of Contents",
   "title_sidebar": "Contents",
   "toc_cell": false,
   "toc_position": {},
   "toc_section_display": true,
   "toc_window_display": false
  },
  "varInspector": {
   "cols": {
    "lenName": 16,
    "lenType": 16,
    "lenVar": 40
   },
   "kernels_config": {
    "python": {
     "delete_cmd_postfix": "",
     "delete_cmd_prefix": "del ",
     "library": "var_list.py",
     "varRefreshCmd": "print(var_dic_list())"
    },
    "r": {
     "delete_cmd_postfix": ") ",
     "delete_cmd_prefix": "rm(",
     "library": "var_list.r",
     "varRefreshCmd": "cat(var_dic_list()) "
    }
   },
   "types_to_exclude": [
    "module",
    "function",
    "builtin_function_or_method",
    "instance",
    "_Feature"
   ],
   "window_display": false
  }
 },
 "nbformat": 4,
 "nbformat_minor": 5
}
